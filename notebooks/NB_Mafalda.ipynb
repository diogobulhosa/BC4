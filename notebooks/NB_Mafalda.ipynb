{
 "cells": [
  {
   "cell_type": "code",
   "execution_count": 32,
   "metadata": {},
   "outputs": [],
   "source": [
    "import pandas as pd \n",
    "import numpy as np \n",
    "\n",
    "import matplotlib.pyplot as plt\n",
    "import seaborn as sns\n",
    "from datetime import datetime, timedelta\n",
    "\n",
    "import warnings\n",
    "warnings.filterwarnings('ignore')\n",
    "\n",
    "import matplotlib.dates as mdates\n",
    "from mplfinance.original_flavor import candlestick_ohlc"
   ]
  },
  {
   "cell_type": "code",
   "execution_count": 33,
   "metadata": {},
   "outputs": [],
   "source": [
    "#! pip install --upgrade mplfinance"
   ]
  },
  {
   "cell_type": "code",
   "execution_count": 34,
   "metadata": {},
   "outputs": [],
   "source": [
    "df_adj_close = pd.read_csv(r'../data/adj_close.csv')\n",
    "df_close = pd.read_csv(r'../data/close.csv')\n",
    "df_high = pd.read_csv(r'../data/high.csv')\n",
    "df_low = pd.read_csv(r'../data/low.csv')\n",
    "df_open = pd.read_csv(r'../data/open.csv')\n",
    "df_volume = pd.read_csv(r'../data/volume.csv')\n"
   ]
  },
  {
   "cell_type": "code",
   "execution_count": 35,
   "metadata": {},
   "outputs": [],
   "source": [
    "df = pd.melt(i, id_vars=['Date'], var_name=\"Cryptocurrency\", \n",
    "                    value_name='Value')\n",
    "df.rename(columns={\"Value\" : 'adj_close'},inplace = True)"
   ]
  },
  {
   "cell_type": "code",
   "execution_count": 36,
   "metadata": {},
   "outputs": [],
   "source": [
    "data =[df_adj_close,df_close, df_high, df_low, df_open,df_volume]\n",
    "columns = ['close', 'high', 'low', 'open', 'volume']"
   ]
  },
  {
   "cell_type": "code",
   "execution_count": 37,
   "metadata": {},
   "outputs": [],
   "source": [
    "for i in data:\n",
    "    for v in columns: \n",
    "        df[v] = pd.melt(i, id_vars=['Date'], var_name=\"Cryptocurrency\", \n",
    "                    value_name='Value')['Value']\n",
    "        df.rename(columns={\"Value\" : v},inplace = True)\n",
    "\n",
    "           "
   ]
  },
  {
   "cell_type": "code",
   "execution_count": 38,
   "metadata": {},
   "outputs": [],
   "source": [
    "#df.to_csv(r'../data/DFconcat.csv')"
   ]
  },
  {
   "cell_type": "markdown",
   "metadata": {},
   "source": [
    "## ARIMA MODEL \n",
    "\n",
    "Source Code: https://www.analyticsvidhya.com/blog/2021/12/cryptocurrency-price-prediction-using-arima-model/"
   ]
  },
  {
   "cell_type": "code",
   "execution_count": 39,
   "metadata": {},
   "outputs": [],
   "source": [
    "# Transforming date to date object\n",
    "df['Date'] = pd.to_datetime(df['Date'], format='%Y-%m-%d')"
   ]
  },
  {
   "cell_type": "code",
   "execution_count": 40,
   "metadata": {},
   "outputs": [
    {
     "name": "stdout",
     "output_type": "stream",
     "text": [
      "Latest crypto data\n"
     ]
    },
    {
     "data": {
      "text/html": [
       "<div>\n",
       "<style scoped>\n",
       "    .dataframe tbody tr th:only-of-type {\n",
       "        vertical-align: middle;\n",
       "    }\n",
       "\n",
       "    .dataframe tbody tr th {\n",
       "        vertical-align: top;\n",
       "    }\n",
       "\n",
       "    .dataframe thead th {\n",
       "        text-align: right;\n",
       "    }\n",
       "</style>\n",
       "<table border=\"1\" class=\"dataframe\">\n",
       "  <thead>\n",
       "    <tr style=\"text-align: right;\">\n",
       "      <th></th>\n",
       "      <th>Date</th>\n",
       "      <th>Cryptocurrency</th>\n",
       "      <th>adj_close</th>\n",
       "      <th>close</th>\n",
       "      <th>high</th>\n",
       "      <th>low</th>\n",
       "      <th>open</th>\n",
       "      <th>volume</th>\n",
       "    </tr>\n",
       "  </thead>\n",
       "  <tbody>\n",
       "    <tr>\n",
       "      <th>1825</th>\n",
       "      <td>2022-04-25</td>\n",
       "      <td>ADA-USD</td>\n",
       "      <td>1.139869e+09</td>\n",
       "      <td>1.139869e+09</td>\n",
       "      <td>1.139869e+09</td>\n",
       "      <td>1.139869e+09</td>\n",
       "      <td>1.139869e+09</td>\n",
       "      <td>1.139869e+09</td>\n",
       "    </tr>\n",
       "    <tr>\n",
       "      <th>3651</th>\n",
       "      <td>2022-04-25</td>\n",
       "      <td>ATOM-USD</td>\n",
       "      <td>5.150367e+08</td>\n",
       "      <td>5.150367e+08</td>\n",
       "      <td>5.150367e+08</td>\n",
       "      <td>5.150367e+08</td>\n",
       "      <td>5.150367e+08</td>\n",
       "      <td>5.150367e+08</td>\n",
       "    </tr>\n",
       "    <tr>\n",
       "      <th>5477</th>\n",
       "      <td>2022-04-25</td>\n",
       "      <td>AVAX-USD</td>\n",
       "      <td>7.353225e+08</td>\n",
       "      <td>7.353225e+08</td>\n",
       "      <td>7.353225e+08</td>\n",
       "      <td>7.353225e+08</td>\n",
       "      <td>7.353225e+08</td>\n",
       "      <td>7.353225e+08</td>\n",
       "    </tr>\n",
       "    <tr>\n",
       "      <th>7303</th>\n",
       "      <td>2022-04-25</td>\n",
       "      <td>AXS-USD</td>\n",
       "      <td>3.421145e+08</td>\n",
       "      <td>3.421145e+08</td>\n",
       "      <td>3.421145e+08</td>\n",
       "      <td>3.421145e+08</td>\n",
       "      <td>3.421145e+08</td>\n",
       "      <td>3.421145e+08</td>\n",
       "    </tr>\n",
       "    <tr>\n",
       "      <th>9129</th>\n",
       "      <td>2022-04-25</td>\n",
       "      <td>BTC-USD</td>\n",
       "      <td>3.544573e+10</td>\n",
       "      <td>3.544573e+10</td>\n",
       "      <td>3.544573e+10</td>\n",
       "      <td>3.544573e+10</td>\n",
       "      <td>3.544573e+10</td>\n",
       "      <td>3.544573e+10</td>\n",
       "    </tr>\n",
       "  </tbody>\n",
       "</table>\n",
       "</div>"
      ],
      "text/plain": [
       "           Date Cryptocurrency     adj_close         close          high  \\\n",
       "1825 2022-04-25        ADA-USD  1.139869e+09  1.139869e+09  1.139869e+09   \n",
       "3651 2022-04-25       ATOM-USD  5.150367e+08  5.150367e+08  5.150367e+08   \n",
       "5477 2022-04-25       AVAX-USD  7.353225e+08  7.353225e+08  7.353225e+08   \n",
       "7303 2022-04-25        AXS-USD  3.421145e+08  3.421145e+08  3.421145e+08   \n",
       "9129 2022-04-25        BTC-USD  3.544573e+10  3.544573e+10  3.544573e+10   \n",
       "\n",
       "               low          open        volume  \n",
       "1825  1.139869e+09  1.139869e+09  1.139869e+09  \n",
       "3651  5.150367e+08  5.150367e+08  5.150367e+08  \n",
       "5477  7.353225e+08  7.353225e+08  7.353225e+08  \n",
       "7303  3.421145e+08  3.421145e+08  3.421145e+08  \n",
       "9129  3.544573e+10  3.544573e+10  3.544573e+10  "
      ]
     },
     "execution_count": 40,
     "metadata": {},
     "output_type": "execute_result"
    }
   ],
   "source": [
    "# Getting a dataframe containing only the latest date's data for each currency\n",
    "print(\"Latest crypto data\")\n",
    "latest_df = df[df['Date'] == max(df['Date'])]\n",
    "latest_df.head()"
   ]
  },
  {
   "cell_type": "code",
   "execution_count": 41,
   "metadata": {},
   "outputs": [
    {
     "name": "stdout",
     "output_type": "stream",
     "text": [
      "Number of cryptocurrencies listed:  10\n"
     ]
    }
   ],
   "source": [
    "print(\"Number of cryptocurrencies listed: \", latest_df['Cryptocurrency'].nunique())"
   ]
  },
  {
   "cell_type": "code",
   "execution_count": null,
   "metadata": {},
   "outputs": [],
   "source": [
    "for i in df['Cryptocurrency']: \n",
    "df['ranknow'] = "
   ]
  }
 ],
 "metadata": {
  "interpreter": {
   "hash": "7c5bc60f1b709cc28d984b044e46a36e86d71fb0a6f2e3589923fa1d0135e80a"
  },
  "kernelspec": {
   "display_name": "Python 3.8.12 ('ML')",
   "language": "python",
   "name": "python3"
  },
  "language_info": {
   "codemirror_mode": {
    "name": "ipython",
    "version": 3
   },
   "file_extension": ".py",
   "mimetype": "text/x-python",
   "name": "python",
   "nbconvert_exporter": "python",
   "pygments_lexer": "ipython3",
   "version": "3.9.6"
  },
  "orig_nbformat": 4
 },
 "nbformat": 4,
 "nbformat_minor": 2
}
