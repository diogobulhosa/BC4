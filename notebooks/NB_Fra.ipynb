{
 "cells": [
  {
   "cell_type": "code",
   "execution_count": 1,
   "metadata": {},
   "outputs": [],
   "source": [
    "import pandas as pd \n",
    "import numpy as np \n",
    "import yfinance as yf\n",
    "\n",
    "from sklearn.model_selection import TimeSeriesSplit\n",
    "from sklearn.preprocessing import StandardScaler\n",
    "\n",
    "import seaborn as sns\n",
    "import matplotlib.pyplot as plt\n",
    "import plotly.graph_objects as go\n",
    "import plotly.express as px"
   ]
  },
  {
   "cell_type": "markdown",
   "metadata": {},
   "source": [
    "# Correlation Matrix"
   ]
  },
  {
   "cell_type": "code",
   "execution_count": 2,
   "metadata": {},
   "outputs": [],
   "source": [
    "result = pd.read_csv(r'../data/cryptoInd/link_ind.csv', index_col='Date')"
   ]
  },
  {
   "cell_type": "markdown",
   "metadata": {},
   "source": [
    "## Scaling"
   ]
  },
  {
   "cell_type": "markdown",
   "metadata": {},
   "source": [
    "ASK TEACHER: should i do this?"
   ]
  },
  {
   "cell_type": "code",
   "execution_count": 3,
   "metadata": {},
   "outputs": [
    {
     "data": {
      "text/html": [
       "<div>\n",
       "<style scoped>\n",
       "    .dataframe tbody tr th:only-of-type {\n",
       "        vertical-align: middle;\n",
       "    }\n",
       "\n",
       "    .dataframe tbody tr th {\n",
       "        vertical-align: top;\n",
       "    }\n",
       "\n",
       "    .dataframe thead th {\n",
       "        text-align: right;\n",
       "    }\n",
       "</style>\n",
       "<table border=\"1\" class=\"dataframe\">\n",
       "  <thead>\n",
       "    <tr style=\"text-align: right;\">\n",
       "      <th></th>\n",
       "      <th>adj_close</th>\n",
       "      <th>close</th>\n",
       "      <th>low</th>\n",
       "      <th>high</th>\n",
       "      <th>open</th>\n",
       "      <th>volume</th>\n",
       "      <th>SMA30</th>\n",
       "      <th>CMA30</th>\n",
       "      <th>EMA30</th>\n",
       "      <th>adx</th>\n",
       "      <th>...</th>\n",
       "      <th>bb_high</th>\n",
       "      <th>macd</th>\n",
       "      <th>macdsignal</th>\n",
       "      <th>macdhist</th>\n",
       "      <th>rsi</th>\n",
       "      <th>stdev</th>\n",
       "      <th>slowk</th>\n",
       "      <th>slowd</th>\n",
       "      <th>dollar_close</th>\n",
       "      <th>sp500_close</th>\n",
       "    </tr>\n",
       "    <tr>\n",
       "      <th>Date</th>\n",
       "      <th></th>\n",
       "      <th></th>\n",
       "      <th></th>\n",
       "      <th></th>\n",
       "      <th></th>\n",
       "      <th></th>\n",
       "      <th></th>\n",
       "      <th></th>\n",
       "      <th></th>\n",
       "      <th></th>\n",
       "      <th></th>\n",
       "      <th></th>\n",
       "      <th></th>\n",
       "      <th></th>\n",
       "      <th></th>\n",
       "      <th></th>\n",
       "      <th></th>\n",
       "      <th></th>\n",
       "      <th></th>\n",
       "      <th></th>\n",
       "      <th></th>\n",
       "    </tr>\n",
       "  </thead>\n",
       "  <tbody>\n",
       "    <tr>\n",
       "      <th>2017-12-18</th>\n",
       "      <td>-0.814305</td>\n",
       "      <td>-0.814305</td>\n",
       "      <td>-0.823441</td>\n",
       "      <td>-0.813310</td>\n",
       "      <td>-0.815392</td>\n",
       "      <td>-0.163832</td>\n",
       "      <td>-0.833384</td>\n",
       "      <td>-0.827368</td>\n",
       "      <td>-0.836690</td>\n",
       "      <td>0.162739</td>\n",
       "      <td>...</td>\n",
       "      <td>-0.822995</td>\n",
       "      <td>-0.017206</td>\n",
       "      <td>-0.041688</td>\n",
       "      <td>0.067602</td>\n",
       "      <td>1.691418</td>\n",
       "      <td>-0.709962</td>\n",
       "      <td>1.561660</td>\n",
       "      <td>1.309844</td>\n",
       "      <td>-0.461681</td>\n",
       "      <td>-0.986639</td>\n",
       "    </tr>\n",
       "    <tr>\n",
       "      <th>2017-12-19</th>\n",
       "      <td>-0.813906</td>\n",
       "      <td>-0.813906</td>\n",
       "      <td>-0.818446</td>\n",
       "      <td>-0.807035</td>\n",
       "      <td>-0.814245</td>\n",
       "      <td>-0.164783</td>\n",
       "      <td>-0.832544</td>\n",
       "      <td>-0.825598</td>\n",
       "      <td>-0.835602</td>\n",
       "      <td>0.310129</td>\n",
       "      <td>...</td>\n",
       "      <td>-0.821298</td>\n",
       "      <td>-0.010783</td>\n",
       "      <td>-0.036359</td>\n",
       "      <td>0.071970</td>\n",
       "      <td>1.722891</td>\n",
       "      <td>-0.705500</td>\n",
       "      <td>1.402711</td>\n",
       "      <td>1.498024</td>\n",
       "      <td>-0.626366</td>\n",
       "      <td>-0.999314</td>\n",
       "    </tr>\n",
       "    <tr>\n",
       "      <th>2017-12-20</th>\n",
       "      <td>-0.819878</td>\n",
       "      <td>-0.819878</td>\n",
       "      <td>-0.824398</td>\n",
       "      <td>-0.812984</td>\n",
       "      <td>-0.813559</td>\n",
       "      <td>-0.165315</td>\n",
       "      <td>-0.831905</td>\n",
       "      <td>-0.824442</td>\n",
       "      <td>-0.834977</td>\n",
       "      <td>0.347242</td>\n",
       "      <td>...</td>\n",
       "      <td>-0.820560</td>\n",
       "      <td>-0.012068</td>\n",
       "      <td>-0.032369</td>\n",
       "      <td>0.056468</td>\n",
       "      <td>0.852906</td>\n",
       "      <td>-0.704490</td>\n",
       "      <td>0.698723</td>\n",
       "      <td>1.308799</td>\n",
       "      <td>-0.671797</td>\n",
       "      <td>-1.002552</td>\n",
       "    </tr>\n",
       "    <tr>\n",
       "      <th>2017-12-21</th>\n",
       "      <td>-0.815258</td>\n",
       "      <td>-0.815258</td>\n",
       "      <td>-0.822866</td>\n",
       "      <td>-0.810626</td>\n",
       "      <td>-0.818949</td>\n",
       "      <td>-0.165018</td>\n",
       "      <td>-0.831089</td>\n",
       "      <td>-0.822939</td>\n",
       "      <td>-0.834088</td>\n",
       "      <td>0.402046</td>\n",
       "      <td>...</td>\n",
       "      <td>-0.819409</td>\n",
       "      <td>-0.009369</td>\n",
       "      <td>-0.028602</td>\n",
       "      <td>0.053886</td>\n",
       "      <td>1.239624</td>\n",
       "      <td>-0.702308</td>\n",
       "      <td>0.075129</td>\n",
       "      <td>0.774116</td>\n",
       "      <td>-0.681485</td>\n",
       "      <td>-0.994792</td>\n",
       "    </tr>\n",
       "    <tr>\n",
       "      <th>2017-12-22</th>\n",
       "      <td>-0.815026</td>\n",
       "      <td>-0.815026</td>\n",
       "      <td>-0.830997</td>\n",
       "      <td>-0.811486</td>\n",
       "      <td>-0.814552</td>\n",
       "      <td>-0.164453</td>\n",
       "      <td>-0.830305</td>\n",
       "      <td>-0.821485</td>\n",
       "      <td>-0.833241</td>\n",
       "      <td>0.342762</td>\n",
       "      <td>...</td>\n",
       "      <td>-0.818334</td>\n",
       "      <td>-0.007725</td>\n",
       "      <td>-0.025239</td>\n",
       "      <td>0.049221</td>\n",
       "      <td>1.258059</td>\n",
       "      <td>-0.700338</td>\n",
       "      <td>-0.044944</td>\n",
       "      <td>0.253416</td>\n",
       "      <td>-0.660772</td>\n",
       "      <td>-0.996587</td>\n",
       "    </tr>\n",
       "  </tbody>\n",
       "</table>\n",
       "<p>5 rows × 22 columns</p>\n",
       "</div>"
      ],
      "text/plain": [
       "            adj_close     close       low      high      open    volume  \\\n",
       "Date                                                                      \n",
       "2017-12-18  -0.814305 -0.814305 -0.823441 -0.813310 -0.815392 -0.163832   \n",
       "2017-12-19  -0.813906 -0.813906 -0.818446 -0.807035 -0.814245 -0.164783   \n",
       "2017-12-20  -0.819878 -0.819878 -0.824398 -0.812984 -0.813559 -0.165315   \n",
       "2017-12-21  -0.815258 -0.815258 -0.822866 -0.810626 -0.818949 -0.165018   \n",
       "2017-12-22  -0.815026 -0.815026 -0.830997 -0.811486 -0.814552 -0.164453   \n",
       "\n",
       "               SMA30     CMA30     EMA30       adx  ...   bb_high      macd  \\\n",
       "Date                                                ...                       \n",
       "2017-12-18 -0.833384 -0.827368 -0.836690  0.162739  ... -0.822995 -0.017206   \n",
       "2017-12-19 -0.832544 -0.825598 -0.835602  0.310129  ... -0.821298 -0.010783   \n",
       "2017-12-20 -0.831905 -0.824442 -0.834977  0.347242  ... -0.820560 -0.012068   \n",
       "2017-12-21 -0.831089 -0.822939 -0.834088  0.402046  ... -0.819409 -0.009369   \n",
       "2017-12-22 -0.830305 -0.821485 -0.833241  0.342762  ... -0.818334 -0.007725   \n",
       "\n",
       "            macdsignal  macdhist       rsi     stdev     slowk     slowd  \\\n",
       "Date                                                                       \n",
       "2017-12-18   -0.041688  0.067602  1.691418 -0.709962  1.561660  1.309844   \n",
       "2017-12-19   -0.036359  0.071970  1.722891 -0.705500  1.402711  1.498024   \n",
       "2017-12-20   -0.032369  0.056468  0.852906 -0.704490  0.698723  1.308799   \n",
       "2017-12-21   -0.028602  0.053886  1.239624 -0.702308  0.075129  0.774116   \n",
       "2017-12-22   -0.025239  0.049221  1.258059 -0.700338 -0.044944  0.253416   \n",
       "\n",
       "            dollar_close  sp500_close  \n",
       "Date                                   \n",
       "2017-12-18     -0.461681    -0.986639  \n",
       "2017-12-19     -0.626366    -0.999314  \n",
       "2017-12-20     -0.671797    -1.002552  \n",
       "2017-12-21     -0.681485    -0.994792  \n",
       "2017-12-22     -0.660772    -0.996587  \n",
       "\n",
       "[5 rows x 22 columns]"
      ]
     },
     "execution_count": 3,
     "metadata": {},
     "output_type": "execute_result"
    }
   ],
   "source": [
    "scaled_df = result.copy()\n",
    "scaler = StandardScaler()\n",
    "scaled_feat = scaler.fit_transform(result)\n",
    "scaled_df = pd.DataFrame(scaled_feat, index = result.index, columns=result.columns)\n",
    "scaled_df.head()"
   ]
  },
  {
   "cell_type": "code",
   "execution_count": 4,
   "metadata": {},
   "outputs": [
    {
     "data": {
      "image/png": "[encoded data removed]",
      "text/plain": [
       "<Figure size 2160x2160 with 2 Axes>"
      ]
     },
     "metadata": {
      "needs_background": "light"
     },
     "output_type": "display_data"
    }
   ],
   "source": [
    "# Obtain correlation matrix. Round the values to 2 decimal cases. Use the DataFrame corr() and round() method.\n",
    "corr = np.round(scaled_df.corr(method=\"spearman\"), decimals=2)\n",
    "\n",
    "def cor_heatmap(cor):\n",
    "    plt.figure(figsize=(30,30))\n",
    "    sns.heatmap(data = cor, annot = True, cmap = plt.cm.Reds, fmt='.1')\n",
    "    plt.show()\n",
    "\n",
    "\n",
    "cor_heatmap(corr)"
   ]
  },
  {
   "cell_type": "markdown",
   "metadata": {},
   "source": [
    "As we can see high, low, open, SMA30, EMA30 and the Bollinger Bands pretty much all tell the same information and are highly correlated. These variables will then be removed. "
   ]
  },
  {
   "cell_type": "code",
   "execution_count": 5,
   "metadata": {},
   "outputs": [
    {
     "data": {
      "text/plain": [
       "Index(['adj_close', 'close', 'low', 'high', 'open', 'volume', 'SMA30', 'CMA30',\n",
       "       'EMA30', 'adx', 'bb_low', 'bb_ma', 'bb_high', 'macd', 'macdsignal',\n",
       "       'macdhist', 'rsi', 'stdev', 'slowk', 'slowd', 'dollar_close',\n",
       "       'sp500_close'],\n",
       "      dtype='object')"
      ]
     },
     "execution_count": 5,
     "metadata": {},
     "output_type": "execute_result"
    }
   ],
   "source": [
    "scaled_df.columns"
   ]
  },
  {
   "cell_type": "code",
   "execution_count": 6,
   "metadata": {},
   "outputs": [],
   "source": [
    "scaled_df.drop(['low', 'open','SMA30', 'EMA30','bb_low', 'bb_ma', 'bb_high', 'stdev', 'adj_close', 'macdsignal'], axis=1, inplace=True)"
   ]
  },
  {
   "cell_type": "markdown",
   "metadata": {},
   "source": [
    "# Timeseries CV and Sliding window "
   ]
  },
  {
   "cell_type": "markdown",
   "metadata": {},
   "source": [
    "## TimeSeries CV"
   ]
  },
  {
   "cell_type": "code",
   "execution_count": 7,
   "metadata": {},
   "outputs": [
    {
     "data": {
      "text/plain": [
       "Index(['close', 'high', 'volume', 'CMA30', 'adx', 'macd', 'macdhist', 'rsi',\n",
       "       'slowk', 'slowd', 'dollar_close', 'sp500_close'],\n",
       "      dtype='object')"
      ]
     },
     "execution_count": 7,
     "metadata": {},
     "output_type": "execute_result"
    }
   ],
   "source": [
    "scaled_df.columns"
   ]
  },
  {
   "cell_type": "code",
   "execution_count": 8,
   "metadata": {},
   "outputs": [],
   "source": [
    "y = result['close']\n",
    "X = scaled_df.drop(['close'], axis=1)"
   ]
  },
  {
   "cell_type": "code",
   "execution_count": 9,
   "metadata": {},
   "outputs": [],
   "source": [
    "#Splitting to Training set and Test set\n",
    "timesplit= TimeSeriesSplit(n_splits=10)\n",
    "for train_index, test_index in timesplit.split(X):\n",
    "        X_train, X_test = X[:len(train_index)], X[len(train_index): (len(train_index)+len(test_index))]\n",
    "        y_train, y_test = y[:len(train_index)].values.ravel(), y[len(train_index): (len(train_index)+len(test_index))].values.ravel()"
   ]
  },
  {
   "cell_type": "markdown",
   "metadata": {},
   "source": [
    "## Hand-Made Sliding Window"
   ]
  },
  {
   "cell_type": "code",
   "execution_count": 10,
   "metadata": {},
   "outputs": [],
   "source": [
    "y = result\n",
    "y.reset_index(inplace=True)\n",
    "X = scaled_df.drop(['close'], axis=1)\n",
    "X.reset_index(inplace=True)\n",
    "y['Date'] = pd.to_datetime(y['Date']).dt.date"
   ]
  },
  {
   "cell_type": "code",
   "execution_count": 11,
   "metadata": {},
   "outputs": [],
   "source": [
    "def train_test_split_time_series(data, num_df, column_date):\n",
    "    #data: data frame to split\n",
    "    #num_df: number of differente splits\n",
    "    #column_date: name of the column that has the Date info\n",
    "    data[column_date] = pd.to_datetime(data[column_date]).dt.date\n",
    "    date_split=[]\n",
    "    max_date = data[column_date].max()\n",
    "    min_date = data[column_date].min()\n",
    "    range_date = max_date-min_date\n",
    "    split_criteria = 0.2/(num_df-1)\n",
    "    train = 0.6\n",
    "    test = 0.8\n",
    "    inicial = 0\n",
    "    for i in range(num_df):\n",
    "        list_to_add=[]\n",
    "        list_to_add.append((min_date + range_date*inicial))\n",
    "        list_to_add.append((min_date + range_date*train))\n",
    "        list_to_add.append((min_date + range_date*test))\n",
    "        train = train + split_criteria\n",
    "        test = test + split_criteria\n",
    "        inicial = inicial + split_criteria\n",
    "\n",
    "        date_split.append(list_to_add)\n",
    "    \n",
    "    \n",
    "    return date_split"
   ]
  },
  {
   "cell_type": "code",
   "execution_count": 12,
   "metadata": {},
   "outputs": [],
   "source": [
    "date = train_test_split_time_series(X, num_df=3, column_date='Date')"
   ]
  },
  {
   "cell_type": "code",
   "execution_count": 13,
   "metadata": {},
   "outputs": [
    {
     "data": {
      "text/plain": [
       "[[datetime.date(2017, 12, 18),\n",
       "  datetime.date(2020, 7, 28),\n",
       "  datetime.date(2021, 6, 11)],\n",
       " [datetime.date(2018, 5, 25),\n",
       "  datetime.date(2021, 1, 3),\n",
       "  datetime.date(2021, 11, 17)],\n",
       " [datetime.date(2018, 10, 31),\n",
       "  datetime.date(2021, 6, 11),\n",
       "  datetime.date(2022, 4, 25)]]"
      ]
     },
     "execution_count": 13,
     "metadata": {},
     "output_type": "execute_result"
    }
   ],
   "source": [
    "date"
   ]
  },
  {
   "cell_type": "code",
   "execution_count": 14,
   "metadata": {},
   "outputs": [],
   "source": [
    "train_1 = X[(X['Date'] >= date[0][0]) & (X['Date'] < date[0][1])]\n",
    "test_1 = X[(X['Date'] >= date[0][1]) & (X['Date'] < date[0][2])]\n",
    "\n",
    "y_train_1 = y[(y['Date'] >= date[0][0]) & (y['Date'] < date[0][1])]\n",
    "y_test_1 = y[(y['Date'] >= date[0][1]) & (y['Date'] < date[0][2])]"
   ]
  },
  {
   "cell_type": "code",
   "execution_count": 15,
   "metadata": {},
   "outputs": [],
   "source": [
    "def date_to_index(col_name, *args):\n",
    "    for df in args:\n",
    "        df.set_index(col_name, inplace = True)"
   ]
  },
  {
   "cell_type": "code",
   "execution_count": 16,
   "metadata": {},
   "outputs": [],
   "source": [
    "date_to_index('Date', train_1, test_1)"
   ]
  },
  {
   "cell_type": "code",
   "execution_count": 17,
   "metadata": {},
   "outputs": [],
   "source": [
    "y_train_1 = y_train_1['close']\n",
    "y_test_1= y_test_1['close']"
   ]
  },
  {
   "cell_type": "markdown",
   "metadata": {},
   "source": [
    "# Models"
   ]
  },
  {
   "cell_type": "markdown",
   "metadata": {},
   "source": [
    "## Functions To Apply the Models "
   ]
  },
  {
   "cell_type": "code",
   "execution_count": 23,
   "metadata": {},
   "outputs": [],
   "source": [
    "# Models\n",
    "#Neural Networks\n",
    "from sklearn.neural_network import MLPRegressor\n",
    "\n",
    "from sklearn.metrics import mean_absolute_error\n",
    "from sklearn.metrics import mean_squared_error\n",
    "from sklearn.metrics import r2_score"
   ]
  },
  {
   "cell_type": "code",
   "execution_count": 24,
   "metadata": {},
   "outputs": [],
   "source": [
    "def show_results(df,X_train, X_test, y_train, y_test, *args):\n",
    "    \"\"\"\n",
    "    Receive an empty dataframe and the different models and call the function avg_score\n",
    "    \"\"\"\n",
    "    preds = [y_test]\n",
    "    count = 0\n",
    "    # for each model passed as argument\n",
    "    for arg in args:\n",
    "        # applies the model\n",
    "        model_fit = arg.fit(X_train, y_train)\n",
    "        # predicts training\n",
    "        y_pred_test = model_fit.predict(X_test)\n",
    "        # evaluate predictions\n",
    "        mae = mean_absolute_error(y_test, y_pred_test)\n",
    "        mse = mean_squared_error(y_test, y_pred_test)\n",
    "        r2 = r2_score(y_test, y_pred_test)\n",
    "        preds.append(y_pred_test)\n",
    "        # store the results in the right row\n",
    "        df.iloc[count] = mae, mse, r2\n",
    "        count+=1\n",
    "    \n",
    "    fig = px.line(X_test, x = X_test.index, y = preds)\n",
    "    fig.show()\n",
    "    return df"
   ]
  },
  {
   "cell_type": "markdown",
   "metadata": {},
   "source": [
    "## Neural Networks"
   ]
  },
  {
   "cell_type": "code",
   "execution_count": 40,
   "metadata": {},
   "outputs": [],
   "source": [
    "df = pd.DataFrame(columns = ['MAE', 'MSE', 'R2'], index = ['NN'])"
   ]
  },
  {
   "cell_type": "code",
   "execution_count": 41,
   "metadata": {},
   "outputs": [],
   "source": [
    "nn_modelo = MLPRegressor()"
   ]
  },
  {
   "cell_type": "code",
   "execution_count": 42,
   "metadata": {},
   "outputs": [
    {
     "name": "stderr",
     "output_type": "stream",
     "text": [
      "C:\\Users\\xicoc\\.conda\\envs\\NOVAIMS\\lib\\site-packages\\sklearn\\neural_network\\_multilayer_perceptron.py:692: ConvergenceWarning:\n",
      "\n",
      "Stochastic Optimizer: Maximum iterations (200) reached and the optimization hasn't converged yet.\n",
      "\n"
     ]
    }
   ],
   "source": [
    "# applies the model\n",
    "model_fit = nn_modelo.fit(X_train, y_train)\n",
    "# predicts training\n",
    "y_pred_test = model_fit.predict(X_test)\n",
    "# evaluate predictions\n",
    "mae = mean_absolute_error(y_test, y_pred_test)\n",
    "mse = mean_squared_error(y_test, y_pred_test)\n",
    "r2 = r2_score(y_test, y_pred_test)\n"
   ]
  },
  {
   "cell_type": "code",
   "execution_count": 43,
   "metadata": {},
   "outputs": [
    {
     "name": "stderr",
     "output_type": "stream",
     "text": [
      "C:\\Users\\xicoc\\.conda\\envs\\NOVAIMS\\lib\\site-packages\\sklearn\\neural_network\\_multilayer_perceptron.py:692: ConvergenceWarning:\n",
      "\n",
      "Stochastic Optimizer: Maximum iterations (200) reached and the optimization hasn't converged yet.\n",
      "\n"
     ]
    },
    {
     "data": {
      "application/vnd.plotly.v1+json": {
       "config": {
        "plotlyServerURL": "https://plot.ly"
       },
       "data": [
        {
         "hovertemplate": "variable=wide_variable_0<br>Date=%{x}<br>value=%{y}<extra></extra>",
         "legendgroup": "wide_variable_0",
         "line": {
          "color": "#636efa",
          "dash": "solid"
         },
         "mode": "lines",
         "name": "wide_variable_0",
         "orientation": "v",
         "showlegend": true,
         "type": "scatter",
         "x": [
          "2021-12-02",
          "2021-12-03",
          "2021-12-06",
          "2021-12-07",
          "2021-12-08",
          "2021-12-09",
          "2021-12-10",
          "2021-12-13",
          "2021-12-14",
          "2021-12-15",
          "2021-12-16",
          "2021-12-17",
          "2021-12-20",
          "2021-12-21",
          "2021-12-22",
          "2021-12-23",
          "2021-12-27",
          "2021-12-28",
          "2021-12-29",
          "2021-12-30",
          "2021-12-31",
          "2022-01-03",
          "2022-01-04",
          "2022-01-05",
          "2022-01-06",
          "2022-01-07",
          "2022-01-10",
          "2022-01-11",
          "2022-01-12",
          "2022-01-13",
          "2022-01-14",
          "2022-01-18",
          "2022-01-19",
          "2022-01-20",
          "2022-01-21",
          "2022-01-24",
          "2022-01-25",
          "2022-01-26",
          "2022-01-27",
          "2022-01-28",
          "2022-01-31",
          "2022-02-01",
          "2022-02-02",
          "2022-02-03",
          "2022-02-04",
          "2022-02-07",
          "2022-02-08",
          "2022-02-09",
          "2022-02-10",
          "2022-02-11",
          "2022-02-14",
          "2022-02-15",
          "2022-02-16",
          "2022-02-17",
          "2022-02-18",
          "2022-02-22",
          "2022-02-23",
          "2022-02-24",
          "2022-02-25",
          "2022-02-28",
          "2022-03-01",
          "2022-03-02",
          "2022-03-03",
          "2022-03-04",
          "2022-03-07",
          "2022-03-08",
          "2022-03-09",
          "2022-03-10",
          "2022-03-11",
          "2022-03-14",
          "2022-03-15",
          "2022-03-16",
          "2022-03-17",
          "2022-03-18",
          "2022-03-21",
          "2022-03-22",
          "2022-03-23",
          "2022-03-24",
          "2022-03-25",
          "2022-03-28",
          "2022-03-29",
          "2022-03-30",
          "2022-03-31",
          "2022-04-01",
          "2022-04-04",
          "2022-04-05",
          "2022-04-06",
          "2022-04-07",
          "2022-04-08",
          "2022-04-11",
          "2022-04-12",
          "2022-04-13",
          "2022-04-14",
          "2022-04-18",
          "2022-04-19",
          "2022-04-20",
          "2022-04-21",
          "2022-04-22",
          "2022-04-25"
         ],
         "xaxis": "x",
         "y": [
          24.537094116210938,
          23.2915267944336,
          19.88426780700684,
          21.09157371520996,
          22.886016845703125,
          20.306026458740234,
          18.583904266357425,
          17.77545928955078,
          17.587615966796875,
          19.71448516845703,
          18.78617286682129,
          18.291275024414062,
          18.747501373291016,
          19.45420455932617,
          19.91473960876465,
          22.141969680786133,
          22.98203659057617,
          20.39145469665528,
          19.70285415649414,
          19.9703426361084,
          19.59232521057129,
          23.57390594482422,
          23.52586555480957,
          25.44780158996582,
          25.377212524414062,
          25.96063995361328,
          27.88326644897461,
          26.69095039367676,
          26.777944564819336,
          24.872852325439453,
          25.781768798828125,
          23.003719329833984,
          21.653993606567383,
          20.19513893127441,
          17.426189422607422,
          15.584161758422852,
          15.527324676513672,
          15.270565032958984,
          15.18051815032959,
          16.1232852935791,
          17.240427017211914,
          17.0242919921875,
          15.819188117980955,
          16.178110122680664,
          17.4454402923584,
          18.87679481506348,
          18.42635536193848,
          18.64273452758789,
          17.525623321533203,
          16.184280395507812,
          15.939895629882812,
          17.319860458374023,
          17.17413330078125,
          15.57224464416504,
          15.232380867004396,
          14.026960372924805,
          13.407191276550291,
          13.26722812652588,
          14.338565826416016,
          15.116470336914062,
          15.334708213806152,
          15.29494857788086,
          14.897106170654297,
          13.714876174926758,
          12.71272087097168,
          13.077510833740234,
          14.015893936157228,
          13.195725440979004,
          13.07819938659668,
          13.401471138000488,
          13.714278221130373,
          14.696399688720703,
          14.421710968017578,
          15.02858066558838,
          15.007802963256836,
          15.450860977172852,
          15.800262451171877,
          16.171621322631836,
          15.584914207458496,
          16.517032623291016,
          16.973129272460938,
          17.209745407104492,
          16.910993576049805,
          17.312368392944336,
          17.474639892578125,
          16.77373504638672,
          15.427790641784668,
          15.77530002593994,
          15.135031700134276,
          13.75277042388916,
          13.973590850830078,
          14.183897972106934,
          13.646020889282228,
          14.037701606750488,
          14.258341789245604,
          14.024039268493652,
          13.588746070861816,
          13.60935401916504,
          13.45869255065918
         ],
         "yaxis": "y"
        },
        {
         "hovertemplate": "variable=wide_variable_1<br>Date=%{x}<br>value=%{y}<extra></extra>",
         "legendgroup": "wide_variable_1",
         "line": {
          "color": "#EF553B",
          "dash": "solid"
         },
         "mode": "lines",
         "name": "wide_variable_1",
         "orientation": "v",
         "showlegend": true,
         "type": "scatter",
         "x": [
          "2021-12-02",
          "2021-12-03",
          "2021-12-06",
          "2021-12-07",
          "2021-12-08",
          "2021-12-09",
          "2021-12-10",
          "2021-12-13",
          "2021-12-14",
          "2021-12-15",
          "2021-12-16",
          "2021-12-17",
          "2021-12-20",
          "2021-12-21",
          "2021-12-22",
          "2021-12-23",
          "2021-12-27",
          "2021-12-28",
          "2021-12-29",
          "2021-12-30",
          "2021-12-31",
          "2022-01-03",
          "2022-01-04",
          "2022-01-05",
          "2022-01-06",
          "2022-01-07",
          "2022-01-10",
          "2022-01-11",
          "2022-01-12",
          "2022-01-13",
          "2022-01-14",
          "2022-01-18",
          "2022-01-19",
          "2022-01-20",
          "2022-01-21",
          "2022-01-24",
          "2022-01-25",
          "2022-01-26",
          "2022-01-27",
          "2022-01-28",
          "2022-01-31",
          "2022-02-01",
          "2022-02-02",
          "2022-02-03",
          "2022-02-04",
          "2022-02-07",
          "2022-02-08",
          "2022-02-09",
          "2022-02-10",
          "2022-02-11",
          "2022-02-14",
          "2022-02-15",
          "2022-02-16",
          "2022-02-17",
          "2022-02-18",
          "2022-02-22",
          "2022-02-23",
          "2022-02-24",
          "2022-02-25",
          "2022-02-28",
          "2022-03-01",
          "2022-03-02",
          "2022-03-03",
          "2022-03-04",
          "2022-03-07",
          "2022-03-08",
          "2022-03-09",
          "2022-03-10",
          "2022-03-11",
          "2022-03-14",
          "2022-03-15",
          "2022-03-16",
          "2022-03-17",
          "2022-03-18",
          "2022-03-21",
          "2022-03-22",
          "2022-03-23",
          "2022-03-24",
          "2022-03-25",
          "2022-03-28",
          "2022-03-29",
          "2022-03-30",
          "2022-03-31",
          "2022-04-01",
          "2022-04-04",
          "2022-04-05",
          "2022-04-06",
          "2022-04-07",
          "2022-04-08",
          "2022-04-11",
          "2022-04-12",
          "2022-04-13",
          "2022-04-14",
          "2022-04-18",
          "2022-04-19",
          "2022-04-20",
          "2022-04-21",
          "2022-04-22",
          "2022-04-25"
         ],
         "xaxis": "x",
         "y": [
          21.474899767798355,
          21.050124945601645,
          17.507102185736827,
          18.61149156437358,
          20.592978115081245,
          19.548115522003584,
          18.188938472318,
          16.94429140340099,
          16.012340333786568,
          17.182106604199006,
          17.124375758471174,
          16.071059779170874,
          15.642685143348075,
          15.854539848706423,
          16.993154477760292,
          19.125373864566285,
          21.273185072728616,
          19.208458523678893,
          18.04643811352939,
          18.358005493543033,
          19.064753562195847,
          22.857893923130653,
          22.969344672508974,
          25.457390655659808,
          24.201330028944263,
          25.719953610447803,
          26.887445758588775,
          26.535909362303464,
          25.88870252829728,
          24.61164021403114,
          24.54006785815995,
          22.38738806994339,
          21.60744856815782,
          21.04222183748095,
          19.703209865552346,
          17.95283303554541,
          17.065781407992716,
          16.51838618029761,
          15.243315590097025,
          15.557658462686367,
          16.277389706591038,
          16.062616767878367,
          15.283098720630585,
          14.587992239405345,
          15.731207356511227,
          18.038983640925636,
          17.904732047646085,
          17.603145644843018,
          16.825021978208106,
          15.243439367156215,
          15.295109729412163,
          16.851993126372257,
          16.764399799060214,
          15.590415679600023,
          14.114020207448656,
          13.951900102901176,
          13.609809010183914,
          12.69065111521015,
          13.584058509833136,
          14.106285669361363,
          13.696181617209605,
          13.994232211490013,
          12.883997516554269,
          10.879154247955535,
          10.66367373592149,
          10.992412733646242,
          12.078067423112566,
          10.966290340178517,
          10.040790008805347,
          10.289281375819188,
          10.457736283209359,
          11.951841628660903,
          12.84789212285284,
          13.30865816078229,
          13.072268949703671,
          14.142899296424332,
          14.53859534845383,
          15.276231902587938,
          14.952814007107495,
          16.311133214998158,
          17.241686565762826,
          17.698539571867848,
          17.099742976065045,
          16.793813232905087,
          16.942544449845997,
          15.338956223915178,
          13.685104672828553,
          14.207872292183472,
          15.114162822481203,
          14.353243769328797,
          13.905384768732802,
          14.240082076166354,
          13.517854739690472,
          11.809430907155663,
          12.001104907636277,
          12.374814532290266,
          11.54002232154516,
          10.832731589249592,
          11.300414246900912
         ],
         "yaxis": "y"
        }
       ],
       "layout": {
        "legend": {
         "title": {
          "text": "variable"
         },
         "tracegroupgap": 0
        },
        "margin": {
         "t": 60
        },
        "template": {
         "data": {
          "bar": [
           {
            "error_x": {
             "color": "#2a3f5f"
            },
            "error_y": {
             "color": "#2a3f5f"
            },
            "marker": {
             "line": {
              "color": "#E5ECF6",
              "width": 0.5
             },
             "pattern": {
              "fillmode": "overlay",
              "size": 10,
              "solidity": 0.2
             }
            },
            "type": "bar"
           }
          ],
          "barpolar": [
           {
            "marker": {
             "line": {
              "color": "#E5ECF6",
              "width": 0.5
             },
             "pattern": {
              "fillmode": "overlay",
              "size": 10,
              "solidity": 0.2
             }
            },
            "type": "barpolar"
           }
          ],
          "carpet": [
           {
            "aaxis": {
             "endlinecolor": "#2a3f5f",
             "gridcolor": "white",
             "linecolor": "white",
             "minorgridcolor": "white",
             "startlinecolor": "#2a3f5f"
            },
            "baxis": {
             "endlinecolor": "#2a3f5f",
             "gridcolor": "white",
             "linecolor": "white",
             "minorgridcolor": "white",
             "startlinecolor": "#2a3f5f"
            },
            "type": "carpet"
           }
          ],
          "choropleth": [
           {
            "colorbar": {
             "outlinewidth": 0,
             "ticks": ""
            },
            "type": "choropleth"
           }
          ],
          "contour": [
           {
            "colorbar": {
             "outlinewidth": 0,
             "ticks": ""
            },
            "colorscale": [
             [
              0,
              "#0d0887"
             ],
             [
              0.1111111111111111,
              "#46039f"
             ],
             [
              0.2222222222222222,
              "#7201a8"
             ],
             [
              0.3333333333333333,
              "#9c179e"
             ],
             [
              0.4444444444444444,
              "#bd3786"
             ],
             [
              0.5555555555555556,
              "#d8576b"
             ],
             [
              0.6666666666666666,
              "#ed7953"
             ],
             [
              0.7777777777777778,
              "#fb9f3a"
             ],
             [
              0.8888888888888888,
              "#fdca26"
             ],
             [
              1,
              "#f0f921"
             ]
            ],
            "type": "contour"
           }
          ],
          "contourcarpet": [
           {
            "colorbar": {
             "outlinewidth": 0,
             "ticks": ""
            },
            "type": "contourcarpet"
           }
          ],
          "heatmap": [
           {
            "colorbar": {
             "outlinewidth": 0,
             "ticks": ""
            },
            "colorscale": [
             [
              0,
              "#0d0887"
             ],
             [
              0.1111111111111111,
              "#46039f"
             ],
             [
              0.2222222222222222,
              "#7201a8"
             ],
             [
              0.3333333333333333,
              "#9c179e"
             ],
             [
              0.4444444444444444,
              "#bd3786"
             ],
             [
              0.5555555555555556,
              "#d8576b"
             ],
             [
              0.6666666666666666,
              "#ed7953"
             ],
             [
              0.7777777777777778,
              "#fb9f3a"
             ],
             [
              0.8888888888888888,
              "#fdca26"
             ],
             [
              1,
              "#f0f921"
             ]
            ],
            "type": "heatmap"
           }
          ],
          "heatmapgl": [
           {
            "colorbar": {
             "outlinewidth": 0,
             "ticks": ""
            },
            "colorscale": [
             [
              0,
              "#0d0887"
             ],
             [
              0.1111111111111111,
              "#46039f"
             ],
             [
              0.2222222222222222,
              "#7201a8"
             ],
             [
              0.3333333333333333,
              "#9c179e"
             ],
             [
              0.4444444444444444,
              "#bd3786"
             ],
             [
              0.5555555555555556,
              "#d8576b"
             ],
             [
              0.6666666666666666,
              "#ed7953"
             ],
             [
              0.7777777777777778,
              "#fb9f3a"
             ],
             [
              0.8888888888888888,
              "#fdca26"
             ],
             [
              1,
              "#f0f921"
             ]
            ],
            "type": "heatmapgl"
           }
          ],
          "histogram": [
           {
            "marker": {
             "pattern": {
              "fillmode": "overlay",
              "size": 10,
              "solidity": 0.2
             }
            },
            "type": "histogram"
           }
          ],
          "histogram2d": [
           {
            "colorbar": {
             "outlinewidth": 0,
             "ticks": ""
            },
            "colorscale": [
             [
              0,
              "#0d0887"
             ],
             [
              0.1111111111111111,
              "#46039f"
             ],
             [
              0.2222222222222222,
              "#7201a8"
             ],
             [
              0.3333333333333333,
              "#9c179e"
             ],
             [
              0.4444444444444444,
              "#bd3786"
             ],
             [
              0.5555555555555556,
              "#d8576b"
             ],
             [
              0.6666666666666666,
              "#ed7953"
             ],
             [
              0.7777777777777778,
              "#fb9f3a"
             ],
             [
              0.8888888888888888,
              "#fdca26"
             ],
             [
              1,
              "#f0f921"
             ]
            ],
            "type": "histogram2d"
           }
          ],
          "histogram2dcontour": [
           {
            "colorbar": {
             "outlinewidth": 0,
             "ticks": ""
            },
            "colorscale": [
             [
              0,
              "#0d0887"
             ],
             [
              0.1111111111111111,
              "#46039f"
             ],
             [
              0.2222222222222222,
              "#7201a8"
             ],
             [
              0.3333333333333333,
              "#9c179e"
             ],
             [
              0.4444444444444444,
              "#bd3786"
             ],
             [
              0.5555555555555556,
              "#d8576b"
             ],
             [
              0.6666666666666666,
              "#ed7953"
             ],
             [
              0.7777777777777778,
              "#fb9f3a"
             ],
             [
              0.8888888888888888,
              "#fdca26"
             ],
             [
              1,
              "#f0f921"
             ]
            ],
            "type": "histogram2dcontour"
           }
          ],
          "mesh3d": [
           {
            "colorbar": {
             "outlinewidth": 0,
             "ticks": ""
            },
            "type": "mesh3d"
           }
          ],
          "parcoords": [
           {
            "line": {
             "colorbar": {
              "outlinewidth": 0,
              "ticks": ""
             }
            },
            "type": "parcoords"
           }
          ],
          "pie": [
           {
            "automargin": true,
            "type": "pie"
           }
          ],
          "scatter": [
           {
            "marker": {
             "colorbar": {
              "outlinewidth": 0,
              "ticks": ""
             }
            },
            "type": "scatter"
           }
          ],
          "scatter3d": [
           {
            "line": {
             "colorbar": {
              "outlinewidth": 0,
              "ticks": ""
             }
            },
            "marker": {
             "colorbar": {
              "outlinewidth": 0,
              "ticks": ""
             }
            },
            "type": "scatter3d"
           }
          ],
          "scattercarpet": [
           {
            "marker": {
             "colorbar": {
              "outlinewidth": 0,
              "ticks": ""
             }
            },
            "type": "scattercarpet"
           }
          ],
          "scattergeo": [
           {
            "marker": {
             "colorbar": {
              "outlinewidth": 0,
              "ticks": ""
             }
            },
            "type": "scattergeo"
           }
          ],
          "scattergl": [
           {
            "marker": {
             "colorbar": {
              "outlinewidth": 0,
              "ticks": ""
             }
            },
            "type": "scattergl"
           }
          ],
          "scattermapbox": [
           {
            "marker": {
             "colorbar": {
              "outlinewidth": 0,
              "ticks": ""
             }
            },
            "type": "scattermapbox"
           }
          ],
          "scatterpolar": [
           {
            "marker": {
             "colorbar": {
              "outlinewidth": 0,
              "ticks": ""
             }
            },
            "type": "scatterpolar"
           }
          ],
          "scatterpolargl": [
           {
            "marker": {
             "colorbar": {
              "outlinewidth": 0,
              "ticks": ""
             }
            },
            "type": "scatterpolargl"
           }
          ],
          "scatterternary": [
           {
            "marker": {
             "colorbar": {
              "outlinewidth": 0,
              "ticks": ""
             }
            },
            "type": "scatterternary"
           }
          ],
          "surface": [
           {
            "colorbar": {
             "outlinewidth": 0,
             "ticks": ""
            },
            "colorscale": [
             [
              0,
              "#0d0887"
             ],
             [
              0.1111111111111111,
              "#46039f"
             ],
             [
              0.2222222222222222,
              "#7201a8"
             ],
             [
              0.3333333333333333,
              "#9c179e"
             ],
             [
              0.4444444444444444,
              "#bd3786"
             ],
             [
              0.5555555555555556,
              "#d8576b"
             ],
             [
              0.6666666666666666,
              "#ed7953"
             ],
             [
              0.7777777777777778,
              "#fb9f3a"
             ],
             [
              0.8888888888888888,
              "#fdca26"
             ],
             [
              1,
              "#f0f921"
             ]
            ],
            "type": "surface"
           }
          ],
          "table": [
           {
            "cells": {
             "fill": {
              "color": "#EBF0F8"
             },
             "line": {
              "color": "white"
             }
            },
            "header": {
             "fill": {
              "color": "#C8D4E3"
             },
             "line": {
              "color": "white"
             }
            },
            "type": "table"
           }
          ]
         },
         "layout": {
          "annotationdefaults": {
           "arrowcolor": "#2a3f5f",
           "arrowhead": 0,
           "arrowwidth": 1
          },
          "autotypenumbers": "strict",
          "coloraxis": {
           "colorbar": {
            "outlinewidth": 0,
            "ticks": ""
           }
          },
          "colorscale": {
           "diverging": [
            [
             0,
             "#8e0152"
            ],
            [
             0.1,
             "#c51b7d"
            ],
            [
             0.2,
             "#de77ae"
            ],
            [
             0.3,
             "#f1b6da"
            ],
            [
             0.4,
             "#fde0ef"
            ],
            [
             0.5,
             "#f7f7f7"
            ],
            [
             0.6,
             "#e6f5d0"
            ],
            [
             0.7,
             "#b8e186"
            ],
            [
             0.8,
             "#7fbc41"
            ],
            [
             0.9,
             "#4d9221"
            ],
            [
             1,
             "#276419"
            ]
           ],
           "sequential": [
            [
             0,
             "#0d0887"
            ],
            [
             0.1111111111111111,
             "#46039f"
            ],
            [
             0.2222222222222222,
             "#7201a8"
            ],
            [
             0.3333333333333333,
             "#9c179e"
            ],
            [
             0.4444444444444444,
             "#bd3786"
            ],
            [
             0.5555555555555556,
             "#d8576b"
            ],
            [
             0.6666666666666666,
             "#ed7953"
            ],
            [
             0.7777777777777778,
             "#fb9f3a"
            ],
            [
             0.8888888888888888,
             "#fdca26"
            ],
            [
             1,
             "#f0f921"
            ]
           ],
           "sequentialminus": [
            [
             0,
             "#0d0887"
            ],
            [
             0.1111111111111111,
             "#46039f"
            ],
            [
             0.2222222222222222,
             "#7201a8"
            ],
            [
             0.3333333333333333,
             "#9c179e"
            ],
            [
             0.4444444444444444,
             "#bd3786"
            ],
            [
             0.5555555555555556,
             "#d8576b"
            ],
            [
             0.6666666666666666,
             "#ed7953"
            ],
            [
             0.7777777777777778,
             "#fb9f3a"
            ],
            [
             0.8888888888888888,
             "#fdca26"
            ],
            [
             1,
             "#f0f921"
            ]
           ]
          },
          "colorway": [
           "#636efa",
           "#EF553B",
           "#00cc96",
           "#ab63fa",
           "#FFA15A",
           "#19d3f3",
           "#FF6692",
           "#B6E880",
           "#FF97FF",
           "#FECB52"
          ],
          "font": {
           "color": "#2a3f5f"
          },
          "geo": {
           "bgcolor": "white",
           "lakecolor": "white",
           "landcolor": "#E5ECF6",
           "showlakes": true,
           "showland": true,
           "subunitcolor": "white"
          },
          "hoverlabel": {
           "align": "left"
          },
          "hovermode": "closest",
          "mapbox": {
           "style": "light"
          },
          "paper_bgcolor": "white",
          "plot_bgcolor": "#E5ECF6",
          "polar": {
           "angularaxis": {
            "gridcolor": "white",
            "linecolor": "white",
            "ticks": ""
           },
           "bgcolor": "#E5ECF6",
           "radialaxis": {
            "gridcolor": "white",
            "linecolor": "white",
            "ticks": ""
           }
          },
          "scene": {
           "xaxis": {
            "backgroundcolor": "#E5ECF6",
            "gridcolor": "white",
            "gridwidth": 2,
            "linecolor": "white",
            "showbackground": true,
            "ticks": "",
            "zerolinecolor": "white"
           },
           "yaxis": {
            "backgroundcolor": "#E5ECF6",
            "gridcolor": "white",
            "gridwidth": 2,
            "linecolor": "white",
            "showbackground": true,
            "ticks": "",
            "zerolinecolor": "white"
           },
           "zaxis": {
            "backgroundcolor": "#E5ECF6",
            "gridcolor": "white",
            "gridwidth": 2,
            "linecolor": "white",
            "showbackground": true,
            "ticks": "",
            "zerolinecolor": "white"
           }
          },
          "shapedefaults": {
           "line": {
            "color": "#2a3f5f"
           }
          },
          "ternary": {
           "aaxis": {
            "gridcolor": "white",
            "linecolor": "white",
            "ticks": ""
           },
           "baxis": {
            "gridcolor": "white",
            "linecolor": "white",
            "ticks": ""
           },
           "bgcolor": "#E5ECF6",
           "caxis": {
            "gridcolor": "white",
            "linecolor": "white",
            "ticks": ""
           }
          },
          "title": {
           "x": 0.05
          },
          "xaxis": {
           "automargin": true,
           "gridcolor": "white",
           "linecolor": "white",
           "ticks": "",
           "title": {
            "standoff": 15
           },
           "zerolinecolor": "white",
           "zerolinewidth": 2
          },
          "yaxis": {
           "automargin": true,
           "gridcolor": "white",
           "linecolor": "white",
           "ticks": "",
           "title": {
            "standoff": 15
           },
           "zerolinecolor": "white",
           "zerolinewidth": 2
          }
         }
        },
        "xaxis": {
         "anchor": "y",
         "domain": [
          0,
          1
         ],
         "title": {
          "text": "Date"
         }
        },
        "yaxis": {
         "anchor": "x",
         "domain": [
          0,
          1
         ],
         "title": {
          "text": "value"
         }
        }
       }
      }
     },
     "metadata": {},
     "output_type": "display_data"
    },
    {
     "data": {
      "text/html": [
       "<div>\n",
       "<style scoped>\n",
       "    .dataframe tbody tr th:only-of-type {\n",
       "        vertical-align: middle;\n",
       "    }\n",
       "\n",
       "    .dataframe tbody tr th {\n",
       "        vertical-align: top;\n",
       "    }\n",
       "\n",
       "    .dataframe thead th {\n",
       "        text-align: right;\n",
       "    }\n",
       "</style>\n",
       "<table border=\"1\" class=\"dataframe\">\n",
       "  <thead>\n",
       "    <tr style=\"text-align: right;\">\n",
       "      <th></th>\n",
       "      <th>MAE</th>\n",
       "      <th>MSE</th>\n",
       "      <th>R2</th>\n",
       "    </tr>\n",
       "  </thead>\n",
       "  <tbody>\n",
       "    <tr>\n",
       "      <th>NN</th>\n",
       "      <td>1.324852</td>\n",
       "      <td>2.618432</td>\n",
       "      <td>0.815863</td>\n",
       "    </tr>\n",
       "  </tbody>\n",
       "</table>\n",
       "</div>"
      ],
      "text/plain": [
       "         MAE       MSE        R2\n",
       "NN  1.324852  2.618432  0.815863"
      ]
     },
     "execution_count": 43,
     "metadata": {},
     "output_type": "execute_result"
    }
   ],
   "source": [
    "show_results(df, X_train, X_test, y_train, y_test, nn_modelo)"
   ]
  },
  {
   "cell_type": "code",
   "execution_count": null,
   "metadata": {},
   "outputs": [],
   "source": []
  }
 ],
 "metadata": {
  "interpreter": {
   "hash": "26db2db9b9bdc0b6e8b9d1f6377d51ec8bec941d47547b4eebef8cf545940514"
  },
  "kernelspec": {
   "display_name": "Python 3.9.7 ('NOVAIMS')",
   "language": "python",
   "name": "python3"
  },
  "language_info": {
   "codemirror_mode": {
    "name": "ipython",
    "version": 3
   },
   "file_extension": ".py",
   "mimetype": "text/x-python",
   "name": "python",
   "nbconvert_exporter": "python",
   "pygments_lexer": "ipython3",
   "version": "3.9.7"
  },
  "orig_nbformat": 4
 },
 "nbformat": 4,
 "nbformat_minor": 2
}
