{
 "cells": [
  {
   "cell_type": "code",
   "execution_count": 43,
   "metadata": {},
   "outputs": [],
   "source": [
    "import pandas as pd \n",
    "import numpy as np "
   ]
  },
  {
   "cell_type": "code",
   "execution_count": 44,
   "metadata": {},
   "outputs": [],
   "source": [
    "df_adj_close = pd.read_csv(r'../data/adj_close.csv')\n",
    "df_close = pd.read_csv(r'../data/close.csv')\n",
    "df_high = pd.read_csv(r'../data/high.csv')\n",
    "df_low = pd.read_csv(r'../data/low.csv')\n",
    "df_open = pd.read_csv(r'../data/open.csv')\n",
    "df_volume = pd.read_csv(r'../data/volume.csv')\n"
   ]
  },
  {
   "cell_type": "code",
   "execution_count": 45,
   "metadata": {},
   "outputs": [],
   "source": [
    "datas = []\n",
    "crypto_list = ['ADA-USD', 'ATOM-USD', 'AVAX-USD', 'AXS-USD', 'BTC-USD','ETH-USD', 'LINK-USD', 'LUNA1-USD', 'MATIC-USD', 'SOL-USD']\n",
    "for crypto in crypto_list: \n",
    "    data = {'Date': df_close['Date'],\n",
    "        'adj_close': df_adj_close[crypto],\n",
    "        'close': df_close[crypto],\n",
    "        'low': df_low[crypto],\n",
    "        'open': df_open[crypto],\n",
    "        'volume': df_volume[crypto]}\n",
    "    \n",
    "    datas.append(data)\n",
    "\n",
    "df_ada = pd.DataFrame(datas[0])\n",
    "df_atom= pd.DataFrame(datas[1])\n",
    "df_avax= pd.DataFrame(datas[2])\n",
    "df_axs= pd.DataFrame(datas[3])\n",
    "df_btc= pd.DataFrame(datas[4])\n",
    "df_eth= pd.DataFrame(datas[5])\n",
    "df_link= pd.DataFrame(datas[6])\n",
    "df_luna1= pd.DataFrame(datas[7])\n",
    "df_matic= pd.DataFrame(datas[8])\n",
    "df_sol= pd.DataFrame(datas[9])"
   ]
  },
  {
   "cell_type": "code",
   "execution_count": null,
   "metadata": {},
   "outputs": [],
   "source": []
  }
 ],
 "metadata": {
  "interpreter": {
   "hash": "7c5bc60f1b709cc28d984b044e46a36e86d71fb0a6f2e3589923fa1d0135e80a"
  },
  "kernelspec": {
   "display_name": "Python 3.8.12 ('ML')",
   "language": "python",
   "name": "python3"
  },
  "language_info": {
   "codemirror_mode": {
    "name": "ipython",
    "version": 3
   },
   "file_extension": ".py",
   "mimetype": "text/x-python",
   "name": "python",
   "nbconvert_exporter": "python",
   "pygments_lexer": "ipython3",
   "version": "3.8.12"
  },
  "orig_nbformat": 4
 },
 "nbformat": 4,
 "nbformat_minor": 2
}
