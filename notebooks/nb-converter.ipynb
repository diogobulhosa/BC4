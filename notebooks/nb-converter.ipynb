{
 "cells": [
  {
   "cell_type": "code",
   "execution_count": 1,
   "metadata": {},
   "outputs": [],
   "source": [
    "import pandas as pd \n",
    "import numpy as np \n",
    "import plotly.express as px\n",
    "\n",
    "import talib as tb\n",
    "import yfinance as yf\n"
   ]
  },
  {
   "cell_type": "code",
   "execution_count": 2,
   "metadata": {},
   "outputs": [],
   "source": [
    "df_adj_close = pd.read_csv(r'../data/adj_close.csv')\n",
    "df_close = pd.read_csv(r'../data/close.csv')\n",
    "df_high = pd.read_csv(r'../data/high.csv')\n",
    "df_low = pd.read_csv(r'../data/low.csv')\n",
    "df_open = pd.read_csv(r'../data/open.csv')\n",
    "df_volume = pd.read_csv(r'../data/volume.csv')\n"
   ]
  },
  {
   "cell_type": "code",
   "execution_count": 3,
   "metadata": {},
   "outputs": [],
   "source": [
    "df_close['Date'] = df_close['Date'].astype('datetime64[ns]')"
   ]
  },
  {
   "cell_type": "code",
   "execution_count": 4,
   "metadata": {},
   "outputs": [],
   "source": [
    "datas = []\n",
    "crypto_list = ['ADA-USD', 'ATOM-USD', 'AVAX-USD', 'AXS-USD', 'BTC-USD','ETH-USD', 'LINK-USD', 'LUNA1-USD', 'MATIC-USD', 'SOL-USD']\n",
    "for crypto in crypto_list: \n",
    "    data = {'Date': df_close['Date'],\n",
    "        'adj_close': df_adj_close[crypto],\n",
    "        'close': df_close[crypto],\n",
    "        'low': df_low[crypto],\n",
    "        'high': df_high[crypto],\n",
    "        'open': df_open[crypto],\n",
    "        'volume': df_volume[crypto]}\n",
    "    \n",
    "    datas.append(data)\n",
    "\n",
    "df_ada = pd.DataFrame(datas[0])\n",
    "df_atom= pd.DataFrame(datas[1])\n",
    "df_avax= pd.DataFrame(datas[2])\n",
    "df_axs= pd.DataFrame(datas[3])\n",
    "df_btc= pd.DataFrame(datas[4])\n",
    "df_eth= pd.DataFrame(datas[5])\n",
    "df_link= pd.DataFrame(datas[6])\n",
    "df_luna1= pd.DataFrame(datas[7])\n",
    "df_matic= pd.DataFrame(datas[8])\n",
    "df_sol= pd.DataFrame(datas[9])"
   ]
  },
  {
   "cell_type": "code",
   "execution_count": 5,
   "metadata": {},
   "outputs": [],
   "source": [
    "df_ada.to_csv(r'../data/cryptocsv/ada.csv')\n",
    "df_atom.to_csv(r'../data/cryptocsv/atom.csv')\n",
    "df_avax.to_csv(r'../data/cryptocsv/avax.csv')\n",
    "df_axs.to_csv(r'../data/cryptocsv/axs.csv')\n",
    "df_btc.to_csv(r'../data/cryptocsv/btc.csv')\n",
    "df_eth.to_csv(r'../data/cryptocsv/eth.csv')\n",
    "df_link.to_csv(r'../data/cryptocsv/link.csv')\n",
    "df_luna1.to_csv(r'../data/cryptocsv/luna1.csv')\n",
    "df_matic.to_csv(r'../data/cryptocsv/matic.csv')\n",
    "df_sol.to_csv(r'../data/cryptocsv/sol.csv')"
   ]
  },
  {
   "cell_type": "code",
   "execution_count": 6,
   "metadata": {},
   "outputs": [],
   "source": [
    "def df_converter(df): \n",
    "    df_sp500 = yf.download('^GSPC', \n",
    "                      start='2017-11-09', \n",
    "                      end='2022-04-26', \n",
    "                      progress=False)\n",
    "    df_dollar = yf.download('DX=F', \n",
    "                      start='2017-11-09', \n",
    "                      end='2022-04-26', \n",
    "                      progress=False)\n",
    "    # clearing dollar and sp500 df\n",
    "    df_dollar.drop(['Open', 'High', 'Low', 'Adj Close', 'Volume'], axis=1, inplace=True)\n",
    "    df_dollar.rename(columns={\"Close\": \"dollar_close\"}, inplace=True)\n",
    "    df_sp500.drop(['Open', 'High', 'Low', 'Adj Close', 'Volume'], axis=1, inplace=True)\n",
    "    df_sp500.rename(columns={\"Close\": \"sp500_close\"}, inplace=True)\n",
    "    # clearing general df\n",
    "    #df_eth.drop('Unnamed: 0', axis=1, inplace=True)\n",
    "    #df.drop('adj_close', axis=1, inplace=True)\n",
    "    df.set_index('Date', inplace=True)\n",
    "    df.index = df.index.astype('datetime64[ns]')\n",
    "    df.dropna(inplace=True)\n",
    "    # MA df\n",
    "    df_ma = df['close'].to_frame()\n",
    "    df_ma['SMA30'] = df_ma['close'].rolling(15).mean()\n",
    "    df_ma['CMA30'] = df_ma['close'].expanding().mean()\n",
    "    df_ma['EMA30'] = tb.EMA(df_ma['close'], timeperiod=15)\n",
    "    df_ma.dropna(inplace=True)\n",
    "    # Stoch df\n",
    "    slowk, slowd = tb.STOCH(df[\"high\"], df[\"low\"], df[\"close\"], fastk_period=5, slowk_period=3, slowk_matype=0, slowd_period=3, slowd_matype=0)\n",
    "    df_stoch = pd.DataFrame(index=df.index,\n",
    "                                data={\"slowk\": slowk,\n",
    "                                    \"slowd\": slowd})\n",
    "    df_stoch.dropna(inplace=True)\n",
    "    # for later use in the concat\n",
    "    stoch_c = ['slowk', 'slowd']\n",
    "    # MACD df \n",
    "    macd, macdsignal, macdhist = tb.MACD(df.close, fastperiod=12, slowperiod=26, signalperiod=9)\n",
    "    df_macd = pd.DataFrame(index=df.index,\n",
    "                            data={\"macd\": macd,\n",
    "                                  \"macdsignal\": macdsignal,\n",
    "                                  \"macdhist\": macdhist})\n",
    "    df_macd.dropna(inplace=True)\n",
    "    # for later use in the concat\n",
    "    macd_c = ['macd', 'macdsignal', 'macdhist']\n",
    "    # bb df\n",
    "    upper, middle, lower = tb.BBANDS(df[\"close\"], timeperiod=15)\n",
    "    df_bands = pd.DataFrame(index=df.index,\n",
    "                                data={\"bb_low\": lower,\n",
    "                                    \"bb_ma\": middle,\n",
    "                                    \"bb_high\": upper})\n",
    "    df_bands.dropna(inplace=True)\n",
    "    # for later use in the concat\n",
    "    bands_c = ['bb_low', 'bb_ma', 'bb_high']\n",
    "    # rsi df\n",
    "    rsi = tb.RSI(df['close'], timeperiod=15)\n",
    "    df_rsi = pd.DataFrame(index=df.index,\n",
    "                            data={\"close\": df['close'],\n",
    "                                  \"rsi\": rsi})\n",
    "\n",
    "    df_rsi.dropna(inplace=True)\n",
    "    #stdev df\n",
    "    stdev = tb.STDDEV(df['close'], timeperiod=15, nbdev=1)\n",
    "    df_stdev = pd.DataFrame(index=df.index,\n",
    "                            data={\"close\": df['close'],\n",
    "                                  \"stdev\": stdev})\n",
    "    df_stdev.dropna(inplace=True)\n",
    "    # adx df\n",
    "    adx = tb.ADX(df['high'], df['low'], df['close'], timeperiod=15)\n",
    "    df_adx = pd.DataFrame(index=df.index,\n",
    "                                data={\"close\": df['close'],\n",
    "                                    \"adx\": adx})\n",
    "\n",
    "    df_adx.dropna(inplace=True)\n",
    "\n",
    "    # concat \n",
    "    result =pd.concat([df, df_ma[['SMA30','CMA30','EMA30']], df_adx['adx'], df_bands[bands_c], df_macd[macd_c], df_rsi['rsi'], df_stdev['stdev'], df_stoch[stoch_c], df_dollar['dollar_close'], df_sp500['sp500_close']], axis=1)\n",
    "    result.dropna(inplace=True)\n",
    "\n",
    "    return result "
   ]
  },
  {
   "cell_type": "code",
   "execution_count": 7,
   "metadata": {},
   "outputs": [],
   "source": [
    "df_ada = pd.read_csv(r'../data/cryptocsv/ada.csv')\n",
    "df_atom = pd.read_csv(r'../data/cryptocsv/atom.csv')\n",
    "df_avax = pd.read_csv(r'../data/cryptocsv/avax.csv')\n",
    "df_axs = pd.read_csv(r'../data/cryptocsv/axs.csv')\n",
    "df_btc = pd.read_csv(r'../data/cryptocsv/btc.csv')\n",
    "df_eth = pd.read_csv(r'../data/cryptocsv/eth.csv')\n",
    "df_link = pd.read_csv(r'../data/cryptocsv/link.csv')\n",
    "df_luna1 = pd.read_csv(r'../data/cryptocsv/luna1.csv')\n",
    "df_matic = pd.read_csv(r'../data/cryptocsv/matic.csv')\n",
    "df_sol = pd.read_csv(r'../data/cryptocsv/sol.csv')"
   ]
  },
  {
   "cell_type": "code",
   "execution_count": 8,
   "metadata": {},
   "outputs": [],
   "source": [
    "ada_ind = df_converter(df_ada)\n",
    "atom_ind= df_converter(df_atom)\n",
    "avax_ind= df_converter(df_avax)\n",
    "axs_ind= df_converter(df_axs)\n",
    "btc_ind= df_converter(df_btc)\n",
    "eth_ind= df_converter(df_eth)\n",
    "link_ind= df_converter(df_link)\n",
    "luna1_ind= df_converter(df_luna1)\n",
    "matic_ind= df_converter(df_matic)\n",
    "sol_ind= df_converter(df_sol)"
   ]
  },
  {
   "cell_type": "code",
   "execution_count": 9,
   "metadata": {},
   "outputs": [],
   "source": [
    "columns_to_csv = ['adj_close', 'close', 'low', 'high', 'open', 'volume',\n",
    "       'SMA30', 'CMA30', 'EMA30', 'adx', 'bb_low', 'bb_ma', 'bb_high', 'macd',\n",
    "       'macdsignal', 'macdhist', 'rsi', 'stdev', 'slowk', 'slowd',\n",
    "       'dollar_close', 'sp500_close']"
   ]
  },
  {
   "cell_type": "code",
   "execution_count": 10,
   "metadata": {},
   "outputs": [],
   "source": [
    "ada_ind.to_csv(r'../data/cryptoInd/ada_ind.csv', columns=columns_to_csv)\n",
    "atom_ind.to_csv(r'../data/cryptoInd/atom_ind.csv', columns=columns_to_csv)\n",
    "avax_ind.to_csv(r'../data/cryptoInd/avax_ind.csv', columns=columns_to_csv)\n",
    "axs_ind.to_csv(r'../data/cryptoInd/axs_ind.csv', columns=columns_to_csv)\n",
    "btc_ind.to_csv(r'../data/cryptoInd/btc_ind.csv', columns=columns_to_csv)\n",
    "eth_ind.to_csv(r'../data/cryptoInd/eth_ind.csv', columns=columns_to_csv)\n",
    "link_ind.to_csv(r'../data/cryptoInd/link_ind.csv', columns=columns_to_csv)\n",
    "luna1_ind.to_csv(r'../data/cryptoInd/luna1_ind.csv', columns=columns_to_csv)\n",
    "matic_ind.to_csv(r'../data/cryptoInd/matic_ind.csv', columns=columns_to_csv)\n",
    "sol_ind.to_csv(r'../data/cryptoInd/sol_ind.csv', columns=columns_to_csv)"
   ]
  }
 ],
 "metadata": {
  "interpreter": {
   "hash": "7c5bc60f1b709cc28d984b044e46a36e86d71fb0a6f2e3589923fa1d0135e80a"
  },
  "kernelspec": {
   "display_name": "Python 3.8.12 ('ML')",
   "language": "python",
   "name": "python3"
  },
  "language_info": {
   "codemirror_mode": {
    "name": "ipython",
    "version": 3
   },
   "file_extension": ".py",
   "mimetype": "text/x-python",
   "name": "python",
   "nbconvert_exporter": "python",
   "pygments_lexer": "ipython3",
   "version": "3.8.12"
  },
  "orig_nbformat": 4
 },
 "nbformat": 4,
 "nbformat_minor": 2
}
